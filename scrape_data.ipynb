{
 "cells": [
  {
   "cell_type": "code",
   "execution_count": 12,
   "metadata": {},
   "outputs": [],
   "source": [
    "import requests # for making standard html requests\n",
    "from urllib.request import Request, urlopen\n",
    "from bs4 import BeautifulSoup as soup # magical tool for parsing html data\n",
    "import json # for parsing data\n",
    "from pandas import DataFrame as df # premier library for data organization\n",
    "import csv\n",
    "import random\n",
    "import time"
   ]
  },
  {
   "cell_type": "code",
   "execution_count": 13,
   "metadata": {},
   "outputs": [
    {
     "name": "stdout",
     "output_type": "stream",
     "text": [
      "douglas 0 18\n",
      "douglas 20 38\n",
      "douglas 40 58\n",
      "ballincollig 0 75\n",
      "ballincollig 20 93\n",
      "ballincollig 40 93\n",
      "carrigaline 0 110\n",
      "carrigaline 20 130\n",
      "carrigaline 40 142\n",
      "bishopstown 0 160\n",
      "bishopstown 20 165\n",
      "bishopstown 40 165\n",
      "glasheen 0 180\n",
      "glasheen 20 180\n",
      "glasheen 40 180\n",
      "blackrock 0 198\n",
      "blackrock 20 202\n",
      "blackrock 40 202\n",
      "wilton 0 205\n",
      "wilton 20 205\n",
      "wilton 40 205\n",
      "model-farm-road 0 217\n",
      "model-farm-road 20 217\n",
      "model-farm-road 40 217\n"
     ]
    }
   ],
   "source": [
    "# Build list of user agents to avoid being blocked.\n",
    "user_agents = [\"Mozilla/5.0 (Windows NT 10.0; Win64; x64; rv:77.0) Gecko/20100101 Firefox/77.0\",\n",
    "               \"Mozilla/5.0 (Macintosh; Intel Mac OS X 10.15; rv:77.0) Gecko/20100101 Firefox/77.0\",\n",
    "               \"Mozilla/5.0\"]\n",
    "containers = []\n",
    "\n",
    "# Pull 10 pages of listings for list of suburbs in Cork city area.\n",
    "for location in ['douglas','ballincollig','carrigaline','bishopstown','glasheen','blackrock',\n",
    "                'wilton','model-farm-road']:\n",
    "    for offset in range(0,60,20): # 20 listings per page\n",
    "        user_agent = random.sample(user_agents,1)\n",
    "        url = \"http://www.daft.ie/cork-city/houses-for-sale/\" + location + \"/?offset=\" + str(offset)\n",
    "        req = Request(url , headers={'User-Agent': str(user_agent)})\n",
    "        webpage = urlopen(req).read()\n",
    "        page_soup = soup(webpage, \"html.parser\")\n",
    "        containers += page_soup.findAll(\"div\",\"AdCard__adCardContainer AdCard__adCardContainer--premium\")\n",
    "        containers += page_soup.findAll(\"div\",\"AdCard__adCardContainer AdCard__adCardContainer--standard\")\n",
    "        time.sleep(5) # Wait 5 seconds between hitting site\n",
    "        print(location,offset, len(containers))"
   ]
  },
  {
   "cell_type": "code",
   "execution_count": 14,
   "metadata": {},
   "outputs": [
    {
     "name": "stdout",
     "output_type": "stream",
     "text": [
      "Ad Detected!\n",
      "Ad Detected!\n",
      "Ad Detected!\n",
      "Ad Detected!\n",
      "Ad Detected!\n"
     ]
    }
   ],
   "source": [
    "# For each kind of listing, create a list of containers.\n",
    "# containers = page_soup.findAll(\"div\",\"AdCard__adCardContainer AdCard__adCardContainer--premium\")\n",
    "containers += page_soup.findAll(\"div\",\"AdCard__adCardContainer AdCard__adCardContainer--standard\")\n",
    "\n",
    "# Write data to an array for output to csv later\n",
    "rows = []\n",
    "\n",
    "for idx, container in enumerate(containers):\n",
    "    listing = {}\n",
    "    # Check if the listing is \"valid\", ads will not have a price section.\n",
    "    if container.find('strong', \"PropertyInformationCommonStyles__costAmountCopy\") is None:\n",
    "        print(\"Ad Detected!\")\n",
    "    else: \n",
    "        listing['listing_id'] = container.find('a',\"PropertyInformationCommonStyles__addressCopy--link\")[\"href\"].split(\"-\")[-1][:-1]\n",
    "        listing['location'] = container.find('a',\"PropertyInformationCommonStyles__propertyPrice--link\")[\"href\"].split(\"/\")[3]\n",
    "        listing['address'] = container.find('a',\"PropertyInformationCommonStyles__addressCopy--link\").getText().replace(\",\",\"|\")\n",
    "        listing['beds'] = container.find('div', \"QuickPropertyDetails__iconCopy\").getText()\n",
    "        listing['bathrooms'] = container.find('div', \"QuickPropertyDetails__iconCopy--WithBorder\").getText()\n",
    "        listing['cost'] = container.find('strong', \"PropertyInformationCommonStyles__costAmountCopy\").getText().replace(\"€\",\"\")\n",
    "        listing['num_pics'] = container.find('span', \"PropertyImage__picturesAmountCopy\").getText()\n",
    "        listing['property_type'] = container.find('div', \"QuickPropertyDetails__propertyType\").getText().replace(\"\\n\",\"\").strip()\n",
    "        try:\n",
    "            listing['ber'] = container.find(\"img\",{\"class\":\"PropertyImage__berImage\"}).get_attribute_list(\"src\")[0][-6:-4]\n",
    "        except:\n",
    "            listing['ber'] = 'NA'\n",
    "        rows.append(list(listing.values())) # Add listing to rows list for output."
   ]
  },
  {
   "cell_type": "code",
   "execution_count": 15,
   "metadata": {},
   "outputs": [
    {
     "data": {
      "text/plain": [
       "212"
      ]
     },
     "execution_count": 15,
     "metadata": {},
     "output_type": "execute_result"
    }
   ],
   "source": [
    "len(rows)"
   ]
  },
  {
   "cell_type": "code",
   "execution_count": 16,
   "metadata": {},
   "outputs": [],
   "source": [
    "# Output to flat file for modeling \n",
    "#filename = \"cork_property_prices.csv\"\n",
    "filename = \"cork_property_prices_\" + str(round(time.time())) + \".csv\"\n",
    "\n",
    "# field names  \n",
    "fields = ['listing_id', 'location', 'address', 'beds', 'bathrooms', 'cost', 'num_pics', 'property_type', 'ber'] \n",
    "\n",
    "# writing to csv file  \n",
    "with open(filename, 'w') as csvfile:  \n",
    "    # creating a csv writer object  \n",
    "    csvwriter = csv.writer(csvfile)  \n",
    "        \n",
    "    # writing the fields  \n",
    "    csvwriter.writerow(fields)  \n",
    "        \n",
    "    # writing the data rows  \n",
    "    csvwriter.writerows(rows) "
   ]
  },
  {
   "cell_type": "code",
   "execution_count": null,
   "metadata": {},
   "outputs": [],
   "source": []
  },
  {
   "cell_type": "code",
   "execution_count": null,
   "metadata": {},
   "outputs": [],
   "source": []
  }
 ],
 "metadata": {
  "kernelspec": {
   "display_name": "Python 3",
   "language": "python",
   "name": "python3"
  },
  "language_info": {
   "codemirror_mode": {
    "name": "ipython",
    "version": 3
   },
   "file_extension": ".py",
   "mimetype": "text/x-python",
   "name": "python",
   "nbconvert_exporter": "python",
   "pygments_lexer": "ipython3",
   "version": "3.7.3"
  }
 },
 "nbformat": 4,
 "nbformat_minor": 2
}
