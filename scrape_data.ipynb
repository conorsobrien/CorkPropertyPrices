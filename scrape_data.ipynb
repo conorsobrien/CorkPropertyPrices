{
 "cells": [
  {
   "cell_type": "code",
   "execution_count": 1,
   "metadata": {},
   "outputs": [],
   "source": [
    "import requests # for making standard html requests\n",
    "from urllib.request import Request, urlopen\n",
    "from bs4 import BeautifulSoup as soup # magical tool for parsing html data\n",
    "import json # for parsing data\n",
    "from pandas import DataFrame as df # premier library for data organization\n",
    "import csv\n",
    "import random\n",
    "import time"
   ]
  },
  {
   "cell_type": "code",
   "execution_count": 2,
   "metadata": {},
   "outputs": [
    {
     "name": "stdout",
     "output_type": "stream",
     "text": [
      "douglas 0 18\n",
      "douglas 20 38\n",
      "douglas 40 57\n",
      "ballincollig 0 74\n",
      "ballincollig 20 92\n",
      "ballincollig 40 92\n",
      "carrigaline 0 109\n",
      "carrigaline 20 129\n",
      "carrigaline 40 138\n",
      "bishopstown 0 156\n",
      "bishopstown 20 162\n",
      "bishopstown 40 162\n",
      "glasheen 0 177\n",
      "glasheen 20 177\n",
      "glasheen 40 177\n",
      "blackrock 0 196\n",
      "blackrock 20 201\n",
      "blackrock 40 201\n",
      "rochestown 0 221\n",
      "rochestown 20 223\n",
      "rochestown 40 223\n",
      "lehenaghmore 0 230\n",
      "lehenaghmore 20 230\n",
      "lehenaghmore 40 230\n",
      "ballinlough 0 238\n",
      "ballinlough 20 238\n",
      "ballinlough 40 238\n",
      "ballintemple 0 244\n",
      "ballintemple 20 244\n",
      "ballintemple 40 244\n",
      "wilton 0 249\n",
      "wilton 20 249\n",
      "wilton 40 249\n",
      "model-farm-road 0 262\n",
      "model-farm-road 20 262\n",
      "model-farm-road 40 262\n"
     ]
    }
   ],
   "source": [
    "# Build list of user agents to avoid being blocked.\n",
    "user_agents = [\"Mozilla/5.0 (Windows NT 10.0; Win64; x64; rv:77.0) Gecko/20100101 Firefox/77.0\",\n",
    "               \"Mozilla/5.0 (Macintosh; Intel Mac OS X 10.15; rv:77.0) Gecko/20100101 Firefox/77.0\",\n",
    "               \"Mozilla/5.0\"]\n",
    "containers = []\n",
    "\n",
    "# Pull 10 pages of listings for list of suburbs in Cork city area.\n",
    "for location in ['douglas','ballincollig','carrigaline','bishopstown','glasheen','blackrock','rochestown',\n",
    "                 'lehenaghmore','ballinlough','ballintemple','wilton','model-farm-road']:\n",
    "    for offset in range(0,60,20): # 20 listings per page\n",
    "        user_agent = random.sample(user_agents,1)\n",
    "        url = \"http://www.daft.ie/cork-city/houses-for-sale/\" + location + \"/?offset=\" + str(offset)\n",
    "        req = Request(url , headers={'User-Agent': str(user_agent)})\n",
    "        webpage = urlopen(req).read()\n",
    "        page_soup = soup(webpage, \"html.parser\")\n",
    "        containers += page_soup.findAll(\"div\",\"AdCard__adCardContainer AdCard__adCardContainer--premium\")\n",
    "        containers += page_soup.findAll(\"div\",\"AdCard__adCardContainer AdCard__adCardContainer--standard\")\n",
    "        time.sleep(5) # Wait 5 seconds between hitting site\n",
    "        print(location,offset, len(containers))"
   ]
  },
  {
   "cell_type": "code",
   "execution_count": 3,
   "metadata": {},
   "outputs": [
    {
     "name": "stdout",
     "output_type": "stream",
     "text": [
      "Ad Detected!\n",
      "Ad Detected!\n",
      "Ad Detected!\n",
      "Ad Detected!\n",
      "Ad Detected!\n",
      "Ad Detected!\n",
      "Ad Detected!\n"
     ]
    }
   ],
   "source": [
    "# For each kind of listing, create a list of containers.\n",
    "# containers = page_soup.findAll(\"div\",\"AdCard__adCardContainer AdCard__adCardContainer--premium\")\n",
    "# containers += page_soup.findAll(\"div\",\"AdCard__adCardContainer AdCard__adCardContainer--standard\")\n",
    "\n",
    "# Write data to an array for output to csv later\n",
    "rows = []\n",
    "\n",
    "for idx, container in enumerate(containers):\n",
    "    listing = {}\n",
    "    # Check if the listing is \"valid\", ads will not have a price section.\n",
    "    if container.find('strong', \"PropertyInformationCommonStyles__costAmountCopy\") is None:\n",
    "        print(\"Ad Detected!\")\n",
    "    else: \n",
    "        listing['listing_id'] = container.find('a',\"PropertyInformationCommonStyles__addressCopy--link\")[\"href\"].split(\"-\")[-1][:-1]\n",
    "        listing['url'] = container.find('a',\"PropertyInformationCommonStyles__addressCopy--link\")[\"href\"]\n",
    "        listing['location'] = container.find('a',\"PropertyInformationCommonStyles__propertyPrice--link\")[\"href\"].split(\"/\")[3]\n",
    "        listing['address'] = container.find('a',\"PropertyInformationCommonStyles__addressCopy--link\").getText().replace(\",\",\"|\")\n",
    "        listing['beds'] = container.find('div', \"QuickPropertyDetails__iconCopy\").getText()\n",
    "        listing['bathrooms'] = container.find('div', \"QuickPropertyDetails__iconCopy--WithBorder\").getText()\n",
    "        listing['cost'] = container.find('strong', \"PropertyInformationCommonStyles__costAmountCopy\").getText().replace(\"€\",\"\")\n",
    "        listing['num_pics'] = container.find('span', \"PropertyImage__picturesAmountCopy\").getText()\n",
    "        listing['property_type'] = container.find('div', \"QuickPropertyDetails__propertyType\").getText().replace(\"\\n\",\"\").strip()\n",
    "        try:\n",
    "            listing['ber'] = container.find(\"img\",{\"class\":\"PropertyImage__berImage\"}).get_attribute_list(\"src\")[0][-6:-4]\n",
    "        except:\n",
    "            listing['ber'] = 'NA'\n",
    "        rows.append(list(listing.values())) # Add listing to rows list for output."
   ]
  },
  {
   "cell_type": "code",
   "execution_count": 4,
   "metadata": {},
   "outputs": [
    {
     "data": {
      "text/plain": [
       "255"
      ]
     },
     "execution_count": 4,
     "metadata": {},
     "output_type": "execute_result"
    }
   ],
   "source": [
    "len(rows)"
   ]
  },
  {
   "cell_type": "code",
   "execution_count": 5,
   "metadata": {},
   "outputs": [],
   "source": [
    "# Output to flat file for modeling \n",
    "#filename = \"cork_property_prices.csv\"\n",
    "filename = \"cork_property_prices_\" + str(round(time.time())) + \".csv\"\n",
    "\n",
    "# field names  \n",
    "fields = ['listing_id', 'url', 'location', 'address', 'beds', 'bathrooms', 'cost', 'num_pics', 'property_type', 'ber'] \n",
    "\n",
    "# writing to csv file  \n",
    "with open(filename, 'w') as csvfile:  \n",
    "    # creating a csv writer object  \n",
    "    csvwriter = csv.writer(csvfile)  \n",
    "        \n",
    "    # writing the fields  \n",
    "    csvwriter.writerow(fields)  \n",
    "        \n",
    "    # writing the data rows  \n",
    "    csvwriter.writerows(rows) "
   ]
  },
  {
   "cell_type": "code",
   "execution_count": null,
   "metadata": {},
   "outputs": [],
   "source": []
  }
 ],
 "metadata": {
  "kernelspec": {
   "display_name": "Python 3",
   "language": "python",
   "name": "python3"
  },
  "language_info": {
   "codemirror_mode": {
    "name": "ipython",
    "version": 3
   },
   "file_extension": ".py",
   "mimetype": "text/x-python",
   "name": "python",
   "nbconvert_exporter": "python",
   "pygments_lexer": "ipython3",
   "version": "3.7.3"
  }
 },
 "nbformat": 4,
 "nbformat_minor": 2
}
